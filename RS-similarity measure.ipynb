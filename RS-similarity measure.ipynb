{
 "cells": [
  {
   "cell_type": "code",
   "execution_count": 2,
   "id": "721ba6f7",
   "metadata": {},
   "outputs": [],
   "source": [
    "import numpy as np\n",
    "A = np.array([[4,1,1,4],\n",
    "             [0,4,2,0],\n",
    "             [2,0,4,5],\n",
    "             [1,4,0,1]])"
   ]
  },
  {
   "cell_type": "code",
   "execution_count": 11,
   "id": "037a962d",
   "metadata": {},
   "outputs": [],
   "source": [
    "# Euclidean Distance_1\n",
    "def EUC1(a):\n",
    "    NumUsers = np.size(a, axis=0)\n",
    "    Sim = np.full((NumUsers, NumUsers), 0.0)\n",
    "    for u in range(0, NumUsers):\n",
    "        for v in range(0, NumUsers):\n",
    "            tmp = np.sum(np.square(a[u,]-a[v,]))\n",
    "            Sim[u,v] = Sim[v,u] = np.sqrt(tmp)\n",
    "    return Sim"
   ]
  },
  {
   "cell_type": "code",
   "execution_count": 12,
   "id": "b92afd1e",
   "metadata": {},
   "outputs": [
    {
     "data": {
      "text/plain": [
       "array([[0.        , 6.4807407 , 3.87298335, 5.29150262],\n",
       "       [6.4807407 , 0.        , 7.        , 2.44948974],\n",
       "       [3.87298335, 7.        , 0.        , 7.        ],\n",
       "       [5.29150262, 2.44948974, 7.        , 0.        ]])"
      ]
     },
     "execution_count": 12,
     "metadata": {},
     "output_type": "execute_result"
    }
   ],
   "source": [
    "EUC1(A)"
   ]
  },
  {
   "cell_type": "code",
   "execution_count": 9,
   "id": "b1edab9c",
   "metadata": {},
   "outputs": [],
   "source": [
    "# Euclidean Distance_2\n",
    "def EUC2(u,v):\n",
    "    tmp = np.sum(np.square(u-v))\n",
    "    Sim = np.sqrt(tmp)\n",
    "    return Sim"
   ]
  },
  {
   "cell_type": "code",
   "execution_count": 10,
   "id": "45b0ec7e",
   "metadata": {},
   "outputs": [
    {
     "data": {
      "text/plain": [
       "3.872983346207417"
      ]
     },
     "execution_count": 10,
     "metadata": {},
     "output_type": "execute_result"
    }
   ],
   "source": [
    "EUC2(A[0,],A[2,])"
   ]
  },
  {
   "cell_type": "code",
   "execution_count": 17,
   "id": "88f6b364",
   "metadata": {},
   "outputs": [],
   "source": [
    "# Jaccard Measure_1\n",
    "def JAC1(u,v):\n",
    "    U = np.array(u>0, dtype=np.int) # rating -> binary\n",
    "    V = np.array(v>0, dtype=np.int)\n",
    "    tmp = U+V\n",
    "    Inter = np.sum(np.array(tmp>1, dtype = np.int))\n",
    "    Union = np.sum(np.array(tmp>0, dtype = np.int))\n",
    "    return Inter/Union"
   ]
  },
  {
   "cell_type": "code",
   "execution_count": 18,
   "id": "cca67cc0",
   "metadata": {},
   "outputs": [
    {
     "name": "stderr",
     "output_type": "stream",
     "text": [
      "/var/folders/1m/c6k1f_pd4vx1v_sj8708f_jw0000gn/T/ipykernel_55463/3661156930.py:3: DeprecationWarning: `np.int` is a deprecated alias for the builtin `int`. To silence this warning, use `int` by itself. Doing this will not modify any behavior and is safe. When replacing `np.int`, you may wish to use e.g. `np.int64` or `np.int32` to specify the precision. If you wish to review your current use, check the release note link for additional information.\n",
      "Deprecated in NumPy 1.20; for more details and guidance: https://numpy.org/devdocs/release/1.20.0-notes.html#deprecations\n",
      "  U = np.array(u>0, dtype=np.int) # rating -> binary\n",
      "/var/folders/1m/c6k1f_pd4vx1v_sj8708f_jw0000gn/T/ipykernel_55463/3661156930.py:4: DeprecationWarning: `np.int` is a deprecated alias for the builtin `int`. To silence this warning, use `int` by itself. Doing this will not modify any behavior and is safe. When replacing `np.int`, you may wish to use e.g. `np.int64` or `np.int32` to specify the precision. If you wish to review your current use, check the release note link for additional information.\n",
      "Deprecated in NumPy 1.20; for more details and guidance: https://numpy.org/devdocs/release/1.20.0-notes.html#deprecations\n",
      "  V = np.array(v>0, dtype=np.int)\n",
      "/var/folders/1m/c6k1f_pd4vx1v_sj8708f_jw0000gn/T/ipykernel_55463/3661156930.py:6: DeprecationWarning: `np.int` is a deprecated alias for the builtin `int`. To silence this warning, use `int` by itself. Doing this will not modify any behavior and is safe. When replacing `np.int`, you may wish to use e.g. `np.int64` or `np.int32` to specify the precision. If you wish to review your current use, check the release note link for additional information.\n",
      "Deprecated in NumPy 1.20; for more details and guidance: https://numpy.org/devdocs/release/1.20.0-notes.html#deprecations\n",
      "  Inter = np.sum(np.array(tmp>1, dtype = np.int))\n",
      "/var/folders/1m/c6k1f_pd4vx1v_sj8708f_jw0000gn/T/ipykernel_55463/3661156930.py:7: DeprecationWarning: `np.int` is a deprecated alias for the builtin `int`. To silence this warning, use `int` by itself. Doing this will not modify any behavior and is safe. When replacing `np.int`, you may wish to use e.g. `np.int64` or `np.int32` to specify the precision. If you wish to review your current use, check the release note link for additional information.\n",
      "Deprecated in NumPy 1.20; for more details and guidance: https://numpy.org/devdocs/release/1.20.0-notes.html#deprecations\n",
      "  Union = np.sum(np.array(tmp>0, dtype = np.int))\n"
     ]
    },
    {
     "data": {
      "text/plain": [
       "0.75"
      ]
     },
     "execution_count": 18,
     "metadata": {},
     "output_type": "execute_result"
    }
   ],
   "source": [
    "JAC1(A[0,],A[2,])"
   ]
  },
  {
   "cell_type": "code",
   "execution_count": 19,
   "id": "a931e35c",
   "metadata": {},
   "outputs": [],
   "source": [
    "# Jaccard Measure_2\n",
    "def JAC2(a):\n",
    "    NumUsers = np.size(a, axis=0)\n",
    "    Sim = np.full((NumUsers, NumUsers), 0.0)\n",
    "    for u in range(0, NumUsers):\n",
    "        for v in range(0, NumUsers):\n",
    "            U = np.array(a[u,]>0, dtype=np.int) # rating -> binary\n",
    "            V = np.array(a[v,]>0, dtype=np.int)\n",
    "            SumUV = U+V\n",
    "            Inter = np.sum(np.array(SumUV>1, dtype = np.int))\n",
    "            Union = np.sum(np.array(SumUV>0, dtype = np.int))\n",
    "            tmp = Inter/Union\n",
    "            Sim[u,v] = tmp\n",
    "            Sim[v,u] = Sim[u,v]\n",
    "    return Sim"
   ]
  },
  {
   "cell_type": "code",
   "execution_count": 21,
   "id": "d3c60249",
   "metadata": {},
   "outputs": [
    {
     "name": "stderr",
     "output_type": "stream",
     "text": [
      "/var/folders/1m/c6k1f_pd4vx1v_sj8708f_jw0000gn/T/ipykernel_55463/2828486174.py:7: DeprecationWarning: `np.int` is a deprecated alias for the builtin `int`. To silence this warning, use `int` by itself. Doing this will not modify any behavior and is safe. When replacing `np.int`, you may wish to use e.g. `np.int64` or `np.int32` to specify the precision. If you wish to review your current use, check the release note link for additional information.\n",
      "Deprecated in NumPy 1.20; for more details and guidance: https://numpy.org/devdocs/release/1.20.0-notes.html#deprecations\n",
      "  U = np.array(a[u,]>0, dtype=np.int) # rating -> binary\n",
      "/var/folders/1m/c6k1f_pd4vx1v_sj8708f_jw0000gn/T/ipykernel_55463/2828486174.py:8: DeprecationWarning: `np.int` is a deprecated alias for the builtin `int`. To silence this warning, use `int` by itself. Doing this will not modify any behavior and is safe. When replacing `np.int`, you may wish to use e.g. `np.int64` or `np.int32` to specify the precision. If you wish to review your current use, check the release note link for additional information.\n",
      "Deprecated in NumPy 1.20; for more details and guidance: https://numpy.org/devdocs/release/1.20.0-notes.html#deprecations\n",
      "  V = np.array(a[v,]>0, dtype=np.int)\n",
      "/var/folders/1m/c6k1f_pd4vx1v_sj8708f_jw0000gn/T/ipykernel_55463/2828486174.py:10: DeprecationWarning: `np.int` is a deprecated alias for the builtin `int`. To silence this warning, use `int` by itself. Doing this will not modify any behavior and is safe. When replacing `np.int`, you may wish to use e.g. `np.int64` or `np.int32` to specify the precision. If you wish to review your current use, check the release note link for additional information.\n",
      "Deprecated in NumPy 1.20; for more details and guidance: https://numpy.org/devdocs/release/1.20.0-notes.html#deprecations\n",
      "  Inter = np.sum(np.array(SumUV>1, dtype = np.int))\n",
      "/var/folders/1m/c6k1f_pd4vx1v_sj8708f_jw0000gn/T/ipykernel_55463/2828486174.py:11: DeprecationWarning: `np.int` is a deprecated alias for the builtin `int`. To silence this warning, use `int` by itself. Doing this will not modify any behavior and is safe. When replacing `np.int`, you may wish to use e.g. `np.int64` or `np.int32` to specify the precision. If you wish to review your current use, check the release note link for additional information.\n",
      "Deprecated in NumPy 1.20; for more details and guidance: https://numpy.org/devdocs/release/1.20.0-notes.html#deprecations\n",
      "  Union = np.sum(np.array(SumUV>0, dtype = np.int))\n"
     ]
    },
    {
     "data": {
      "text/plain": [
       "array([[1.  , 0.5 , 0.75, 0.75],\n",
       "       [0.5 , 1.  , 0.25, 0.25],\n",
       "       [0.75, 0.25, 1.  , 0.5 ],\n",
       "       [0.75, 0.25, 0.5 , 1.  ]])"
      ]
     },
     "execution_count": 21,
     "metadata": {},
     "output_type": "execute_result"
    }
   ],
   "source": [
    "JAC2(A)"
   ]
  },
  {
   "cell_type": "code",
   "execution_count": 30,
   "id": "377459ad",
   "metadata": {},
   "outputs": [],
   "source": [
    "# Mean Squared Difference_1\n",
    "def MSD1(u,v):\n",
    "    U = np.where(u==0, np.nan, u) # conver 0 -> nan\n",
    "    V = np.where(v==0, np.nan, v)\n",
    "    SquaredSum = np.square(U-V)\n",
    "    SquaredSum = SquaredSum[~np.isnan(SquaredSum)] # remove nan value\n",
    "    \n",
    "    Allitems = np.size(SquaredSum, axis=0)\n",
    "    tmp = np.sum(SquaredSum)/Allitems\n",
    "    return tmp"
   ]
  },
  {
   "cell_type": "code",
   "execution_count": 31,
   "id": "fc1fb451",
   "metadata": {},
   "outputs": [
    {
     "data": {
      "text/plain": [
       "3.75"
      ]
     },
     "execution_count": 31,
     "metadata": {},
     "output_type": "execute_result"
    }
   ],
   "source": [
    "MSD1(A[0,],A[2,])"
   ]
  },
  {
   "cell_type": "code",
   "execution_count": 34,
   "id": "bdfdd94a",
   "metadata": {},
   "outputs": [],
   "source": [
    "# Mean Squared Difference_2\n",
    "def MSD2(a):\n",
    "    NumUsers = np.size(a, axis=0)\n",
    "    Sim = np.full((NumUsers, NumUsers), 0.0)\n",
    "    for u in range(0, NumUsers):\n",
    "        for v in range(0, NumUsers):\n",
    "            U = np.where(a[u,]==0, np.nan, a[u,])\n",
    "            V = np.where(a[v,]==0, np.nan, a[v,])\n",
    "            SquaredSum = np.square(U-V)\n",
    "            SquaredSum = SquaredSum[~np.isnan(SquaredSum)] # remove nan value\n",
    "            \n",
    "            Allitems = np.size(SquaredSum, axis=0)\n",
    "            tmp = np.sum(SquaredSum)/Allitems\n",
    "    \n",
    "            Sim[u,v] = tmp\n",
    "            Sim[v,u] = Sim[u,v]\n",
    "    return Sim"
   ]
  },
  {
   "cell_type": "code",
   "execution_count": 35,
   "id": "de5c648b",
   "metadata": {},
   "outputs": [
    {
     "data": {
      "text/plain": [
       "array([[0.        , 5.        , 4.66666667, 9.        ],\n",
       "       [5.        , 0.        , 4.        , 0.        ],\n",
       "       [4.66666667, 4.        , 0.        , 8.5       ],\n",
       "       [9.        , 0.        , 8.5       , 0.        ]])"
      ]
     },
     "execution_count": 35,
     "metadata": {},
     "output_type": "execute_result"
    }
   ],
   "source": [
    "MSD2(A)"
   ]
  },
  {
   "cell_type": "code",
   "execution_count": 37,
   "id": "cc45ea92",
   "metadata": {},
   "outputs": [
    {
     "name": "stderr",
     "output_type": "stream",
     "text": [
      "/var/folders/1m/c6k1f_pd4vx1v_sj8708f_jw0000gn/T/ipykernel_55463/3661156930.py:3: DeprecationWarning: `np.int` is a deprecated alias for the builtin `int`. To silence this warning, use `int` by itself. Doing this will not modify any behavior and is safe. When replacing `np.int`, you may wish to use e.g. `np.int64` or `np.int32` to specify the precision. If you wish to review your current use, check the release note link for additional information.\n",
      "Deprecated in NumPy 1.20; for more details and guidance: https://numpy.org/devdocs/release/1.20.0-notes.html#deprecations\n",
      "  U = np.array(u>0, dtype=np.int) # rating -> binary\n",
      "/var/folders/1m/c6k1f_pd4vx1v_sj8708f_jw0000gn/T/ipykernel_55463/3661156930.py:4: DeprecationWarning: `np.int` is a deprecated alias for the builtin `int`. To silence this warning, use `int` by itself. Doing this will not modify any behavior and is safe. When replacing `np.int`, you may wish to use e.g. `np.int64` or `np.int32` to specify the precision. If you wish to review your current use, check the release note link for additional information.\n",
      "Deprecated in NumPy 1.20; for more details and guidance: https://numpy.org/devdocs/release/1.20.0-notes.html#deprecations\n",
      "  V = np.array(v>0, dtype=np.int)\n",
      "/var/folders/1m/c6k1f_pd4vx1v_sj8708f_jw0000gn/T/ipykernel_55463/3661156930.py:6: DeprecationWarning: `np.int` is a deprecated alias for the builtin `int`. To silence this warning, use `int` by itself. Doing this will not modify any behavior and is safe. When replacing `np.int`, you may wish to use e.g. `np.int64` or `np.int32` to specify the precision. If you wish to review your current use, check the release note link for additional information.\n",
      "Deprecated in NumPy 1.20; for more details and guidance: https://numpy.org/devdocs/release/1.20.0-notes.html#deprecations\n",
      "  Inter = np.sum(np.array(tmp>1, dtype = np.int))\n",
      "/var/folders/1m/c6k1f_pd4vx1v_sj8708f_jw0000gn/T/ipykernel_55463/3661156930.py:7: DeprecationWarning: `np.int` is a deprecated alias for the builtin `int`. To silence this warning, use `int` by itself. Doing this will not modify any behavior and is safe. When replacing `np.int`, you may wish to use e.g. `np.int64` or `np.int32` to specify the precision. If you wish to review your current use, check the release note link for additional information.\n",
      "Deprecated in NumPy 1.20; for more details and guidance: https://numpy.org/devdocs/release/1.20.0-notes.html#deprecations\n",
      "  Union = np.sum(np.array(tmp>0, dtype = np.int))\n"
     ]
    },
    {
     "data": {
      "text/plain": [
       "0.6375"
      ]
     },
     "execution_count": 37,
     "metadata": {},
     "output_type": "execute_result"
    }
   ],
   "source": [
    "#JMSD_1\n",
    "def JMSD1(u,v,max):\n",
    "    return JAC1(u,v)*(1-(MSD1(u/max, v/max)))\n",
    "JMSD1(A[0,],A[2,],5)"
   ]
  },
  {
   "cell_type": "code",
   "execution_count": 38,
   "id": "f4421a90",
   "metadata": {},
   "outputs": [
    {
     "name": "stderr",
     "output_type": "stream",
     "text": [
      "/var/folders/1m/c6k1f_pd4vx1v_sj8708f_jw0000gn/T/ipykernel_55463/2828486174.py:7: DeprecationWarning: `np.int` is a deprecated alias for the builtin `int`. To silence this warning, use `int` by itself. Doing this will not modify any behavior and is safe. When replacing `np.int`, you may wish to use e.g. `np.int64` or `np.int32` to specify the precision. If you wish to review your current use, check the release note link for additional information.\n",
      "Deprecated in NumPy 1.20; for more details and guidance: https://numpy.org/devdocs/release/1.20.0-notes.html#deprecations\n",
      "  U = np.array(a[u,]>0, dtype=np.int) # rating -> binary\n",
      "/var/folders/1m/c6k1f_pd4vx1v_sj8708f_jw0000gn/T/ipykernel_55463/2828486174.py:8: DeprecationWarning: `np.int` is a deprecated alias for the builtin `int`. To silence this warning, use `int` by itself. Doing this will not modify any behavior and is safe. When replacing `np.int`, you may wish to use e.g. `np.int64` or `np.int32` to specify the precision. If you wish to review your current use, check the release note link for additional information.\n",
      "Deprecated in NumPy 1.20; for more details and guidance: https://numpy.org/devdocs/release/1.20.0-notes.html#deprecations\n",
      "  V = np.array(a[v,]>0, dtype=np.int)\n",
      "/var/folders/1m/c6k1f_pd4vx1v_sj8708f_jw0000gn/T/ipykernel_55463/2828486174.py:10: DeprecationWarning: `np.int` is a deprecated alias for the builtin `int`. To silence this warning, use `int` by itself. Doing this will not modify any behavior and is safe. When replacing `np.int`, you may wish to use e.g. `np.int64` or `np.int32` to specify the precision. If you wish to review your current use, check the release note link for additional information.\n",
      "Deprecated in NumPy 1.20; for more details and guidance: https://numpy.org/devdocs/release/1.20.0-notes.html#deprecations\n",
      "  Inter = np.sum(np.array(SumUV>1, dtype = np.int))\n",
      "/var/folders/1m/c6k1f_pd4vx1v_sj8708f_jw0000gn/T/ipykernel_55463/2828486174.py:11: DeprecationWarning: `np.int` is a deprecated alias for the builtin `int`. To silence this warning, use `int` by itself. Doing this will not modify any behavior and is safe. When replacing `np.int`, you may wish to use e.g. `np.int64` or `np.int32` to specify the precision. If you wish to review your current use, check the release note link for additional information.\n",
      "Deprecated in NumPy 1.20; for more details and guidance: https://numpy.org/devdocs/release/1.20.0-notes.html#deprecations\n",
      "  Union = np.sum(np.array(SumUV>0, dtype = np.int))\n"
     ]
    },
    {
     "data": {
      "text/plain": [
       "array([[1.  , 0.4 , 0.61, 0.48],\n",
       "       [0.4 , 1.  , 0.21, 0.25],\n",
       "       [0.61, 0.21, 1.  , 0.33],\n",
       "       [0.48, 0.25, 0.33, 1.  ]])"
      ]
     },
     "execution_count": 38,
     "metadata": {},
     "output_type": "execute_result"
    }
   ],
   "source": [
    "#JMSD_1\n",
    "def JMSD2(a,max):\n",
    "    return JAC2(a)*(1-(MSD2(a/max)))\n",
    "JMSD2(A,5)"
   ]
  },
  {
   "cell_type": "code",
   "execution_count": null,
   "id": "85c15eb3",
   "metadata": {},
   "outputs": [],
   "source": []
  },
  {
   "cell_type": "code",
   "execution_count": null,
   "id": "4a737b86",
   "metadata": {},
   "outputs": [],
   "source": []
  },
  {
   "cell_type": "code",
   "execution_count": null,
   "id": "1af3812d",
   "metadata": {},
   "outputs": [],
   "source": []
  }
 ],
 "metadata": {
  "kernelspec": {
   "display_name": "Python 3 (ipykernel)",
   "language": "python",
   "name": "python3"
  },
  "language_info": {
   "codemirror_mode": {
    "name": "ipython",
    "version": 3
   },
   "file_extension": ".py",
   "mimetype": "text/x-python",
   "name": "python",
   "nbconvert_exporter": "python",
   "pygments_lexer": "ipython3",
   "version": "3.8.8"
  }
 },
 "nbformat": 4,
 "nbformat_minor": 5
}
