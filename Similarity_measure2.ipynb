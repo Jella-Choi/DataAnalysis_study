{
 "cells": [
  {
   "cell_type": "code",
   "execution_count": 2,
   "id": "6e34a135",
   "metadata": {},
   "outputs": [],
   "source": [
    "import numpy as np\n",
    "A = np.array([[4,1,1,4],\n",
    "             [0,4,2,0],\n",
    "             [2,0,4,5],\n",
    "             [1,4,0,1]])"
   ]
  },
  {
   "cell_type": "code",
   "execution_count": 5,
   "id": "f7b8ee05",
   "metadata": {},
   "outputs": [],
   "source": [
    "# cosine similarity_1\n",
    "def COS1(u,v):\n",
    "    return np.dot(u,v)/(np.linalg.norm(u)*np.linalg.norm(v))"
   ]
  },
  {
   "cell_type": "code",
   "execution_count": 6,
   "id": "dfabc53f",
   "metadata": {},
   "outputs": [
    {
     "data": {
      "text/plain": [
       "0.8180959881038617"
      ]
     },
     "execution_count": 6,
     "metadata": {},
     "output_type": "execute_result"
    }
   ],
   "source": [
    "COS1(A[0,],A[2,])"
   ]
  },
  {
   "cell_type": "code",
   "execution_count": 9,
   "id": "967bc7e1",
   "metadata": {},
   "outputs": [],
   "source": [
    "# cosine similarity_2\n",
    "def COS2(a):\n",
    "    NumUsers = np.size(a, axis=0)\n",
    "    Sim = np.full((NumUsers, NumUsers), 0.0)\n",
    "    \n",
    "    for u in range(0, NumUsers):\n",
    "        for v in range(0, NumUsers):\n",
    "            InnerDot = np.dot(a[u,],a[v,])\n",
    "            NormU = np.linalg.norm(a[u,])\n",
    "            NormV = np.linalg.norm(a[v,])\n",
    "            Sim[u,v] = Sim[v,u] = InnerDot / (NormU * NormV)\n",
    "    return Sim"
   ]
  },
  {
   "cell_type": "code",
   "execution_count": 10,
   "id": "ba2d3832",
   "metadata": {},
   "outputs": [
    {
     "data": {
      "text/plain": [
       "array([[1.        , 0.2300895 , 0.81809599, 0.48507125],\n",
       "       [0.2300895 , 1.        , 0.26666667, 0.84327404],\n",
       "       [0.81809599, 0.26666667, 1.        , 0.24595493],\n",
       "       [0.48507125, 0.84327404, 0.24595493, 1.        ]])"
      ]
     },
     "execution_count": 10,
     "metadata": {},
     "output_type": "execute_result"
    }
   ],
   "source": [
    "COS2(A)"
   ]
  },
  {
   "cell_type": "code",
   "execution_count": 13,
   "id": "77c293f4",
   "metadata": {},
   "outputs": [],
   "source": [
    "# cosine similarity withour null_1\n",
    "def NCOS1(u,v):\n",
    "    u = A[0,]\n",
    "    v = A[2,]\n",
    "    arridx_u = np.where(u==0)\n",
    "    arridx_v = np.where(v==0)\n",
    "    arridx = np.concatenate((arridx_u, arridx_v), axis=None) # find null value\n",
    "\n",
    "    U = np.delete(u, arridx)\n",
    "    V = np.delete(v, arridx)\n",
    "    return np.dot(U,V) / (np.linalg.norm(U)*np.linalg.norm(V))"
   ]
  },
  {
   "cell_type": "code",
   "execution_count": 14,
   "id": "080afb6f",
   "metadata": {},
   "outputs": [
    {
     "data": {
      "text/plain": [
       "0.830398873772291"
      ]
     },
     "execution_count": 14,
     "metadata": {},
     "output_type": "execute_result"
    }
   ],
   "source": [
    "NCOS1(A[0,],A[2,])"
   ]
  },
  {
   "cell_type": "code",
   "execution_count": 15,
   "id": "2b814198",
   "metadata": {},
   "outputs": [],
   "source": [
    "# cosine similarity withour null_1\n",
    "def NCOS2(a):\n",
    "    NumUsers = np.size(a, axis=0)\n",
    "    Sim = np.full((NumUsers, NumUsers), 0.0)\n",
    "    \n",
    "    for u in range(0, NumUsers):\n",
    "        for v in range(0, NumUsers):\n",
    "            arridx_u = np.where(a[u,] == 0)\n",
    "            arridx_v = np.where(a[v,] == 0)\n",
    "            arridx = np.concatenate((arridx_u, arridx_v), axis=None)\n",
    "            \n",
    "            U = np.delete(a[u,], arridx)\n",
    "            V = np.delete(a[v,], arridx)\n",
    "            \n",
    "            InnerDot = np.dot(U,V)\n",
    "            NormU = np.linalg.norm(U)\n",
    "            NormV = np.linalg.norm(V)\n",
    "            Sim[u,v] = Sim[v,u] = InnerDot / (NormU * NormV)\n",
    "    return Sim"
   ]
  },
  {
   "cell_type": "code",
   "execution_count": 16,
   "id": "9f4ada48",
   "metadata": {},
   "outputs": [
    {
     "data": {
      "text/plain": [
       "array([[1.        , 0.9486833 , 0.83039887, 0.49236596],\n",
       "       [0.9486833 , 1.        , 1.        , 1.        ],\n",
       "       [0.83039887, 1.        , 1.        , 0.91914503],\n",
       "       [0.49236596, 1.        , 0.91914503, 1.        ]])"
      ]
     },
     "execution_count": 16,
     "metadata": {},
     "output_type": "execute_result"
    }
   ],
   "source": [
    "NCOS2(A)"
   ]
  },
  {
   "cell_type": "code",
   "execution_count": 19,
   "id": "b4962bf9",
   "metadata": {},
   "outputs": [],
   "source": [
    "# pearson correlation coefficient_1\n",
    "def PCC1(u,v):\n",
    "    U_mean = np.nanmean(np.where(u!=0,u,np.nan))\n",
    "    V_mean = np.nanmean(np.where(v!=0,v,np.nan))\n",
    "    \n",
    "    arridx_u = np.where(u==0)\n",
    "    arridx_v = np.where(v==0)\n",
    "    arridx = np.concatenate((arridx_u, arridx_v), axis=None) # find null value\n",
    "\n",
    "    U = np.delete(u, arridx)\n",
    "    V = np.delete(v, arridx)\n",
    "    U = U-U_mean\n",
    "    V = V-V_mean\n",
    "    \n",
    "    return np.dot(U,V) / (np.linalg.norm(U)*np.linalg.norm(V))"
   ]
  },
  {
   "cell_type": "code",
   "execution_count": 20,
   "id": "fc384c8b",
   "metadata": {},
   "outputs": [
    {
     "data": {
      "text/plain": [
       "-0.1781741612749495"
      ]
     },
     "execution_count": 20,
     "metadata": {},
     "output_type": "execute_result"
    }
   ],
   "source": [
    "PCC1(A[0,],A[2,])"
   ]
  },
  {
   "cell_type": "code",
   "execution_count": 21,
   "id": "b8fe160d",
   "metadata": {},
   "outputs": [],
   "source": [
    "# pearson correlation coefficient_2\n",
    "def PCC2(a):\n",
    "    NumUsers = np.size(a, axis=0)\n",
    "    Sim = np.full((NumUsers, NumUsers), 0.0)\n",
    "    \n",
    "    mean = np.nanmean(np.where(a!=0, a, np.nan), axis = 1)\n",
    "    \n",
    "    for u in range(0, NumUsers):\n",
    "        for v in range(u, NumUsers):\n",
    "            arridx_u = np.where(a[u,] == 0)\n",
    "            arridx_v = np.where(a[v,] == 0)\n",
    "            arridx = np.concatenate((arridx_u, arridx_v), axis=None)\n",
    "            \n",
    "            U = np.delete(a[u,], arridx)\n",
    "            V = np.delete(a[v,], arridx)\n",
    "            U = U-mean[u]\n",
    "            V = V-mean[v]\n",
    "            \n",
    "            InnerDot = np.dot(U,V)\n",
    "            NormU = np.linalg.norm(U)\n",
    "            NormV = np.linalg.norm(V)\n",
    "            Sim[u,v] = Sim[v,u] = InnerDot / (NormU * NormV)\n",
    "    return Sim"
   ]
  },
  {
   "cell_type": "code",
   "execution_count": 22,
   "id": "ec7b607e",
   "metadata": {},
   "outputs": [
    {
     "data": {
      "text/plain": [
       "array([[ 1.        ,  0.        , -0.17817416, -0.94280904],\n",
       "       [ 0.        ,  1.        , -1.        ,  1.        ],\n",
       "       [-0.17817416, -1.        ,  1.        ,  0.11043153],\n",
       "       [-0.94280904,  1.        ,  0.11043153,  1.        ]])"
      ]
     },
     "execution_count": 22,
     "metadata": {},
     "output_type": "execute_result"
    }
   ],
   "source": [
    "PCC2(A)"
   ]
  }
 ],
 "metadata": {
  "kernelspec": {
   "display_name": "Python 3 (ipykernel)",
   "language": "python",
   "name": "python3"
  },
  "language_info": {
   "codemirror_mode": {
    "name": "ipython",
    "version": 3
   },
   "file_extension": ".py",
   "mimetype": "text/x-python",
   "name": "python",
   "nbconvert_exporter": "python",
   "pygments_lexer": "ipython3",
   "version": "3.8.8"
  }
 },
 "nbformat": 4,
 "nbformat_minor": 5
}
