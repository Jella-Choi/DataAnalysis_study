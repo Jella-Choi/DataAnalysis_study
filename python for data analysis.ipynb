{
 "cells": [
  {
   "cell_type": "code",
   "execution_count": 3,
   "id": "7c3f9692",
   "metadata": {},
   "outputs": [
    {
     "name": "stdout",
     "output_type": "stream",
     "text": [
      "[1, 2, 3, 5, 7]\n"
     ]
    }
   ],
   "source": [
    "a = [7,2,5,1,3]\n",
    "a.sort() \n",
    "print(a)"
   ]
  },
  {
   "cell_type": "code",
   "execution_count": 4,
   "id": "4ead430f",
   "metadata": {},
   "outputs": [
    {
     "name": "stdout",
     "output_type": "stream",
     "text": [
      "['He', 'saw', 'six', 'small', 'foxes']\n"
     ]
    }
   ],
   "source": [
    "b = ['saw','small','He','foxes','six']\n",
    "b.sort(key=len)\n",
    "print(b)"
   ]
  },
  {
   "cell_type": "code",
   "execution_count": null,
   "id": "5c0ac3af",
   "metadata": {},
   "outputs": [],
   "source": [
    "## 내장 순차 함수"
   ]
  },
  {
   "cell_type": "code",
   "execution_count": 7,
   "id": "51b9c3ca",
   "metadata": {},
   "outputs": [
    {
     "name": "stdout",
     "output_type": "stream",
     "text": [
      "{'foo': 0, 'bar': 1, 'baz': 2}\n"
     ]
    }
   ],
   "source": [
    "# enumerate : 순차 자료형에서 아이템의 인덱스와 함께 처리할때\n",
    "\n",
    "some_list = ['foo','bar','baz']\n",
    "\n",
    "mapping={}\n",
    "\n",
    "for i,v in enumerate(some_list):\n",
    "    mapping[v] = i\n",
    "\n",
    "print(mapping)"
   ]
  },
  {
   "cell_type": "code",
   "execution_count": 9,
   "id": "9725be54",
   "metadata": {},
   "outputs": [
    {
     "name": "stdout",
     "output_type": "stream",
     "text": [
      "[' ', 'a', 'c', 'e', 'e', 'h', 'o', 'r', 'r', 's']\n",
      "[0, 1, 3, 3, 6, 6, 8]\n"
     ]
    }
   ],
   "source": [
    "# sorted\n",
    "\n",
    "print(sorted('horse race'))\n",
    "print(sorted([3,6,8,1,6,3,0]))"
   ]
  },
  {
   "cell_type": "code",
   "execution_count": 13,
   "id": "8e6d1a8b",
   "metadata": {},
   "outputs": [
    {
     "name": "stdout",
     "output_type": "stream",
     "text": [
      "<zip object at 0x1074bc8c0>\n",
      "[('foo', 'one'), ('bar', 'two'), ('baz', 'three')]\n"
     ]
    },
    {
     "data": {
      "text/plain": [
       "[('foo', 'one', False), ('bar', 'two', True)]"
      ]
     },
     "execution_count": 13,
     "metadata": {},
     "output_type": "execute_result"
    }
   ],
   "source": [
    "# zip : 여러개의 순차 자료형을 짝지어 튜플의 리스트 생성 - 짧은 리스트 기준\n",
    "seq1 = ['foo','bar','baz']\n",
    "seq2 = ['one','two','three']\n",
    "\n",
    "zipped = zip(seq1, seq2)\n",
    "print(zipped)\n",
    "print(list(zipped))\n",
    "\n",
    "seq3 = [False, True]\n",
    "\n",
    "list(zip(seq1,seq2,seq3))"
   ]
  },
  {
   "cell_type": "code",
   "execution_count": 14,
   "id": "683a49f2",
   "metadata": {},
   "outputs": [
    {
     "name": "stdout",
     "output_type": "stream",
     "text": [
      "0: foo, one\n",
      "1: bar, two\n",
      "2: baz, three\n"
     ]
    }
   ],
   "source": [
    "for i, (a,b) in enumerate(zip(seq1, seq2)):\n",
    "    print(f\"{i}: {a}, {b}\")"
   ]
  },
  {
   "cell_type": "code",
   "execution_count": null,
   "id": "0fd189d9",
   "metadata": {},
   "outputs": [],
   "source": []
  }
 ],
 "metadata": {
  "kernelspec": {
   "display_name": "Python 3 (ipykernel)",
   "language": "python",
   "name": "python3"
  },
  "language_info": {
   "codemirror_mode": {
    "name": "ipython",
    "version": 3
   },
   "file_extension": ".py",
   "mimetype": "text/x-python",
   "name": "python",
   "nbconvert_exporter": "python",
   "pygments_lexer": "ipython3",
   "version": "3.8.8"
  }
 },
 "nbformat": 4,
 "nbformat_minor": 5
}
