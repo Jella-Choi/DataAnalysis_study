{
 "cells": [
  {
   "cell_type": "code",
   "execution_count": 10,
   "id": "450bd827",
   "metadata": {},
   "outputs": [],
   "source": [
    "# 4.1 NumPy ndarray\n",
    "import numpy as np\n",
    "\n",
    "my_arr = np.arange(1000000)\n",
    "\n",
    "my_list = list(range(1000000))"
   ]
  },
  {
   "cell_type": "code",
   "execution_count": 11,
   "id": "569d65e4",
   "metadata": {},
   "outputs": [
    {
     "name": "stdout",
     "output_type": "stream",
     "text": [
      "CPU times: user 16 ms, sys: 9.5 ms, total: 25.5 ms\n",
      "Wall time: 23.2 ms\n"
     ]
    },
    {
     "data": {
      "text/plain": [
       "array([   0, 1024, 2048, 3072, 4096])"
      ]
     },
     "execution_count": 11,
     "metadata": {},
     "output_type": "execute_result"
    }
   ],
   "source": [
    "%time for _ in range(10): my_arr = my_arr*2\n",
    "    \n",
    "my_arr[:5]"
   ]
  },
  {
   "cell_type": "code",
   "execution_count": 12,
   "id": "7af3bb64",
   "metadata": {},
   "outputs": [
    {
     "name": "stdout",
     "output_type": "stream",
     "text": [
      "CPU times: user 283 ms, sys: 59.3 ms, total: 342 ms\n",
      "Wall time: 341 ms\n"
     ]
    },
    {
     "data": {
      "text/plain": [
       "[0, 1024, 2048, 3072, 4096]"
      ]
     },
     "execution_count": 12,
     "metadata": {},
     "output_type": "execute_result"
    }
   ],
   "source": [
    "%time for _ in range(10): my_list = [x*2 for x in my_list]\n",
    "\n",
    "my_list[:5]"
   ]
  },
  {
   "cell_type": "code",
   "execution_count": 14,
   "id": "af076b79",
   "metadata": {},
   "outputs": [
    {
     "data": {
      "text/plain": [
       "array([[-0.88969308,  0.03391444,  1.25217364],\n",
       "       [-0.14326654, -0.94843445, -0.34114916]])"
      ]
     },
     "execution_count": 14,
     "metadata": {},
     "output_type": "execute_result"
    }
   ],
   "source": [
    "data = np.random.randn(2,3) # 2*3 의 랜덤 배열 생성\n",
    "data"
   ]
  },
  {
   "cell_type": "code",
   "execution_count": 17,
   "id": "5b185d8e",
   "metadata": {},
   "outputs": [
    {
     "data": {
      "text/plain": [
       "array([[-8.89693084,  0.33914445, 12.52173635],\n",
       "       [-1.43266538, -9.48434446, -3.41149164]])"
      ]
     },
     "execution_count": 17,
     "metadata": {},
     "output_type": "execute_result"
    }
   ],
   "source": [
    "data*10"
   ]
  },
  {
   "cell_type": "code",
   "execution_count": 16,
   "id": "492baf0b",
   "metadata": {},
   "outputs": [
    {
     "data": {
      "text/plain": [
       "array([[-1.77938617,  0.06782889,  2.50434727],\n",
       "       [-0.28653308, -1.89686889, -0.68229833]])"
      ]
     },
     "execution_count": 16,
     "metadata": {},
     "output_type": "execute_result"
    }
   ],
   "source": [
    "data+data"
   ]
  },
  {
   "cell_type": "code",
   "execution_count": 23,
   "id": "cb2942de",
   "metadata": {},
   "outputs": [
    {
     "data": {
      "text/plain": [
       "array([6. , 7.5, 8. , 0. , 1. ])"
      ]
     },
     "execution_count": 23,
     "metadata": {},
     "output_type": "execute_result"
    }
   ],
   "source": [
    "# 4.1.1 ndarray 생성\n",
    "data1 = [6,7.5,8,0,1]\n",
    "arr1 = np.array(data1)\n",
    "arr1"
   ]
  },
  {
   "cell_type": "code",
   "execution_count": 24,
   "id": "75213eb9",
   "metadata": {},
   "outputs": [
    {
     "data": {
      "text/plain": [
       "array([[1, 2, 3, 4],\n",
       "       [5, 6, 7, 8]])"
      ]
     },
     "execution_count": 24,
     "metadata": {},
     "output_type": "execute_result"
    }
   ],
   "source": [
    "data2 = [[1,2,3,4],[5,6,7,8]]\n",
    "arr2 = np.array(data2)\n",
    "arr2"
   ]
  },
  {
   "cell_type": "code",
   "execution_count": 27,
   "id": "96bbbd03",
   "metadata": {},
   "outputs": [
    {
     "name": "stdout",
     "output_type": "stream",
     "text": [
      "2\n",
      "(2, 4)\n",
      "float64\n",
      "int64\n"
     ]
    }
   ],
   "source": [
    "print(arr2.ndim)\n",
    "print(arr2.shape)\n",
    "\n",
    "print(arr1.dtype)\n",
    "print(arr2.dtype)"
   ]
  },
  {
   "cell_type": "code",
   "execution_count": 36,
   "id": "b012c43a",
   "metadata": {},
   "outputs": [
    {
     "data": {
      "text/plain": [
       "array([[1., 0., 0., 0., 0.],\n",
       "       [0., 1., 0., 0., 0.],\n",
       "       [0., 0., 1., 0., 0.],\n",
       "       [0., 0., 0., 1., 0.],\n",
       "       [0., 0., 0., 0., 1.]])"
      ]
     },
     "execution_count": 36,
     "metadata": {},
     "output_type": "execute_result"
    }
   ],
   "source": [
    "np.zeros(10)\n",
    "np.ones((2,3))\n",
    "np.identity(5)"
   ]
  },
  {
   "cell_type": "code",
   "execution_count": 42,
   "id": "c9c28f30",
   "metadata": {},
   "outputs": [
    {
     "data": {
      "text/plain": [
       "dtype('float32')"
      ]
     },
     "execution_count": 42,
     "metadata": {},
     "output_type": "execute_result"
    }
   ],
   "source": [
    "# ndarray의 dtype\n",
    "arr1 = np.array([1,2,3], dtype=np.float64)\n",
    "arr2 = np.array([1,2,3], dtype=np.int32)\n",
    "\n",
    "arr3 = arr2.astype(np.float32)\n",
    "arr3.dtype\n"
   ]
  },
  {
   "cell_type": "code",
   "execution_count": 51,
   "id": "0ae86142",
   "metadata": {},
   "outputs": [
    {
     "data": {
      "text/plain": [
       "array([ 0,  1,  2, 77, 77,  5,  6,  7,  8,  9])"
      ]
     },
     "execution_count": 51,
     "metadata": {},
     "output_type": "execute_result"
    }
   ],
   "source": [
    "## ndarray -> 대입으로 데이터 복사 X\n",
    "arr = np.arange(10)\n",
    "slice = arr[3:5]\n",
    "slice[:] = 77\n",
    "\n",
    "arr"
   ]
  },
  {
   "cell_type": "code",
   "execution_count": 54,
   "id": "1d78ccbd",
   "metadata": {},
   "outputs": [
    {
     "data": {
      "text/plain": [
       "array([0, 1, 2, 3, 4, 5, 6, 7, 8, 9])"
      ]
     },
     "execution_count": 54,
     "metadata": {},
     "output_type": "execute_result"
    }
   ],
   "source": [
    "# 실제로 복사하려면 .copy() 사용하여 명시적으로 복사해야함\n",
    "arr = np.arange(10)\n",
    "slice = arr[3:5].copy()\n",
    "slice[:] = 77\n",
    "\n",
    "arr"
   ]
  },
  {
   "cell_type": "code",
   "execution_count": 72,
   "id": "2f461667",
   "metadata": {},
   "outputs": [],
   "source": [
    "## bool 값으로 index 선택\n",
    "names = np.array(['Bob','Joe','Will','Bob','Will','Joe','Joe'])\n",
    "\n",
    "data = np.random.randn(7,4)\n",
    "\n"
   ]
  },
  {
   "cell_type": "code",
   "execution_count": 73,
   "id": "3f849630",
   "metadata": {},
   "outputs": [
    {
     "data": {
      "text/plain": [
       "array([[-0.06490704,  0.00427513,  0.65935796,  1.84475722],\n",
       "       [ 0.50983031,  0.147245  , -0.21328065,  1.82431368],\n",
       "       [-0.1494352 ,  0.24936444, -0.35757017, -0.50792025],\n",
       "       [ 1.18584814,  0.97220041, -2.58182868,  1.1712687 ],\n",
       "       [-1.78944796,  0.92076819, -0.78145195, -1.85740612],\n",
       "       [-0.42630777,  1.76274661,  0.71138266, -0.47780694],\n",
       "       [-0.87459447,  0.38118025, -0.8485424 ,  0.20563389]])"
      ]
     },
     "execution_count": 73,
     "metadata": {},
     "output_type": "execute_result"
    }
   ],
   "source": [
    "data"
   ]
  },
  {
   "cell_type": "code",
   "execution_count": 74,
   "id": "7d278d96",
   "metadata": {},
   "outputs": [
    {
     "data": {
      "text/plain": [
       "array([[-0.06490704,  0.00427513,  0.65935796,  1.84475722],\n",
       "       [ 1.18584814,  0.97220041, -2.58182868,  1.1712687 ]])"
      ]
     },
     "execution_count": 74,
     "metadata": {},
     "output_type": "execute_result"
    }
   ],
   "source": [
    "data[names=='Bob']"
   ]
  },
  {
   "cell_type": "code",
   "execution_count": 75,
   "id": "fb450866",
   "metadata": {},
   "outputs": [
    {
     "data": {
      "text/plain": [
       "array([[ 0.65935796,  1.84475722],\n",
       "       [-2.58182868,  1.1712687 ]])"
      ]
     },
     "execution_count": 75,
     "metadata": {},
     "output_type": "execute_result"
    }
   ],
   "source": [
    "data[names=='Bob', 2:]"
   ]
  },
  {
   "cell_type": "code",
   "execution_count": 76,
   "id": "30fe3205",
   "metadata": {},
   "outputs": [
    {
     "data": {
      "text/plain": [
       "array([[ 0.50983031,  0.147245  , -0.21328065,  1.82431368],\n",
       "       [-0.1494352 ,  0.24936444, -0.35757017, -0.50792025],\n",
       "       [-1.78944796,  0.92076819, -0.78145195, -1.85740612],\n",
       "       [-0.42630777,  1.76274661,  0.71138266, -0.47780694],\n",
       "       [-0.87459447,  0.38118025, -0.8485424 ,  0.20563389]])"
      ]
     },
     "execution_count": 76,
     "metadata": {},
     "output_type": "execute_result"
    }
   ],
   "source": [
    "data[~(names=='Bob')]  # 아닌 요소 선택"
   ]
  },
  {
   "cell_type": "code",
   "execution_count": 77,
   "id": "dcf9a037",
   "metadata": {},
   "outputs": [
    {
     "data": {
      "text/plain": [
       "array([[-0.06490704,  0.00427513,  0.65935796,  1.84475722],\n",
       "       [ 0.50983031,  0.147245  , -0.21328065,  1.82431368],\n",
       "       [-0.1494352 ,  0.24936444, -0.35757017, -0.50792025],\n",
       "       [ 1.18584814,  0.97220041, -2.58182868,  1.1712687 ],\n",
       "       [-1.78944796,  0.92076819, -0.78145195, -1.85740612],\n",
       "       [-0.42630777,  1.76274661,  0.71138266, -0.47780694],\n",
       "       [-0.87459447,  0.38118025, -0.8485424 ,  0.20563389]])"
      ]
     },
     "execution_count": 77,
     "metadata": {},
     "output_type": "execute_result"
    }
   ],
   "source": [
    "data"
   ]
  },
  {
   "cell_type": "code",
   "execution_count": 78,
   "id": "1f501cd4",
   "metadata": {},
   "outputs": [
    {
     "data": {
      "text/plain": [
       "array([[0.        , 0.00427513, 0.65935796, 1.84475722],\n",
       "       [0.50983031, 0.147245  , 0.        , 1.82431368],\n",
       "       [0.        , 0.24936444, 0.        , 0.        ],\n",
       "       [1.18584814, 0.97220041, 0.        , 1.1712687 ],\n",
       "       [0.        , 0.92076819, 0.        , 0.        ],\n",
       "       [0.        , 1.76274661, 0.71138266, 0.        ],\n",
       "       [0.        , 0.38118025, 0.        , 0.20563389]])"
      ]
     },
     "execution_count": 78,
     "metadata": {},
     "output_type": "execute_result"
    }
   ],
   "source": [
    "data[data<0] = 0\n",
    "data"
   ]
  },
  {
   "cell_type": "code",
   "execution_count": 79,
   "id": "07792212",
   "metadata": {},
   "outputs": [
    {
     "data": {
      "text/plain": [
       "array([[ 0,  1,  2,  3,  4],\n",
       "       [ 5,  6,  7,  8,  9],\n",
       "       [10, 11, 12, 13, 14]])"
      ]
     },
     "execution_count": 79,
     "metadata": {},
     "output_type": "execute_result"
    }
   ],
   "source": [
    "arr=np.arange(15).reshape((3,5))\n",
    "arr"
   ]
  },
  {
   "cell_type": "code",
   "execution_count": 80,
   "id": "6f68df84",
   "metadata": {},
   "outputs": [
    {
     "data": {
      "text/plain": [
       "array([[ 0,  5, 10],\n",
       "       [ 1,  6, 11],\n",
       "       [ 2,  7, 12],\n",
       "       [ 3,  8, 13],\n",
       "       [ 4,  9, 14]])"
      ]
     },
     "execution_count": 80,
     "metadata": {},
     "output_type": "execute_result"
    }
   ],
   "source": [
    "arr.T  # 전치 행렬"
   ]
  },
  {
   "cell_type": "code",
   "execution_count": 83,
   "id": "332ebfcf",
   "metadata": {},
   "outputs": [
    {
     "data": {
      "text/plain": [
       "array([[ 5.86030448,  2.7512803 , -0.37219565],\n",
       "       [ 2.7512803 ,  1.76170337, -0.84035321],\n",
       "       [-0.37219565, -0.84035321,  5.71524156]])"
      ]
     },
     "execution_count": 83,
     "metadata": {},
     "output_type": "execute_result"
    }
   ],
   "source": [
    "arr = np.random.randn(6,3)\n",
    "arr\n",
    "\n",
    "np.dot(arr.T, arr)  # 행렬의 내적"
   ]
  },
  {
   "cell_type": "code",
   "execution_count": 91,
   "id": "2bf839ed",
   "metadata": {},
   "outputs": [
    {
     "name": "stdout",
     "output_type": "stream",
     "text": [
      "[-0.98250461 -1.78752919  0.50172822  1.13179368  0.51792373 -1.32219826\n",
      " -1.74072495 -1.83742162] \n",
      " [ 0.26225168 -0.48005345 -0.24213204  0.34111905  0.05609316  1.07497384\n",
      " -0.65247422 -0.89854695]\n"
     ]
    },
    {
     "data": {
      "text/plain": [
       "array([ 0.26225168, -0.48005345,  0.50172822,  1.13179368,  0.51792373,\n",
       "        1.07497384, -0.65247422, -0.89854695])"
      ]
     },
     "execution_count": 91,
     "metadata": {},
     "output_type": "execute_result"
    }
   ],
   "source": [
    "x = np.random.randn(8)\n",
    "y = np.random.randn(8)\n",
    "\n",
    "print(x,'\\n',y)\n",
    "np.maximum(x,y) # 각 원소별로 큰 값 계산"
   ]
  },
  {
   "cell_type": "code",
   "execution_count": 94,
   "id": "9c5d0ac5",
   "metadata": {},
   "outputs": [
    {
     "name": "stdout",
     "output_type": "stream",
     "text": [
      "1000\n"
     ]
    },
    {
     "data": {
      "text/plain": [
       "(1000, 1000)"
      ]
     },
     "execution_count": 94,
     "metadata": {},
     "output_type": "execute_result"
    }
   ],
   "source": [
    "## meshgrid : 두개의 1차원 배열을 받아 가능한 모든 (x,y)짝 만듦\n",
    "\n",
    "points = np.arange(-5,5,0.01) # -5 ~ 4.99까지 0.01씩 증가하는 값 배열\n",
    "\n",
    "xs,xy = np.meshgrid(points, points)\n",
    "\n",
    "print(len(points))\n",
    "xs.shape"
   ]
  },
  {
   "cell_type": "code",
   "execution_count": 98,
   "id": "963f059e",
   "metadata": {},
   "outputs": [
    {
     "data": {
      "text/plain": [
       "array([[7.07106781, 7.06400028, 7.05693985, ..., 7.04988652, 7.05693985,\n",
       "        7.06400028],\n",
       "       [7.06400028, 7.05692568, 7.04985815, ..., 7.04279774, 7.04985815,\n",
       "        7.05692568],\n",
       "       [7.05693985, 7.04985815, 7.04278354, ..., 7.03571603, 7.04278354,\n",
       "        7.04985815],\n",
       "       ...,\n",
       "       [7.04988652, 7.04279774, 7.03571603, ..., 7.0286414 , 7.03571603,\n",
       "        7.04279774],\n",
       "       [7.05693985, 7.04985815, 7.04278354, ..., 7.03571603, 7.04278354,\n",
       "        7.04985815],\n",
       "       [7.06400028, 7.05692568, 7.04985815, ..., 7.04279774, 7.04985815,\n",
       "        7.05692568]])"
      ]
     },
     "execution_count": 98,
     "metadata": {},
     "output_type": "execute_result"
    }
   ],
   "source": [
    "z = np.sqrt(xs**2 + xy**2)\n",
    "z.shape\n",
    "\n",
    "z"
   ]
  },
  {
   "cell_type": "code",
   "execution_count": 104,
   "id": "c9351d57",
   "metadata": {},
   "outputs": [
    {
     "data": {
      "text/plain": [
       "Text(0.5, 1.0, 'Image plot of $\\\\sqrt{x^2+y^2}$ for a grid of values')"
      ]
     },
     "execution_count": 104,
     "metadata": {},
     "output_type": "execute_result"
    },
    {
     "data": {
      "image/png": "[encoded data removed]",
      "text/plain": [
       "<Figure size 432x288 with 2 Axes>"
      ]
     },
     "metadata": {
      "needs_background": "light"
     },
     "output_type": "display_data"
    }
   ],
   "source": [
    "import matplotlib.pyplot as plt\n",
    "\n",
    "plt.imshow(z, cmap=plt.cm.gray); plt.colorbar()\n",
    "\n",
    "plt.title('Image plot of $\\sqrt{x^2+y^2}$ for a grid of values')"
   ]
  },
  {
   "cell_type": "code",
   "execution_count": 108,
   "id": "9f849dad",
   "metadata": {},
   "outputs": [],
   "source": [
    "# 배열 연산으로 조건절 표현\n",
    "xarr = np.arange(1.1, 1.6, 0.1)\n",
    "yarr = np.arange(2.1, 2.6, 0.1)\n",
    "cond = np.array([True, False, True, True, False])\n"
   ]
  },
  {
   "cell_type": "code",
   "execution_count": 110,
   "id": "0230a994",
   "metadata": {},
   "outputs": [
    {
     "data": {
      "text/plain": [
       "[1.1, 2.2, 1.3000000000000003, 1.4000000000000004, 2.5000000000000004]"
      ]
     },
     "execution_count": 110,
     "metadata": {},
     "output_type": "execute_result"
    }
   ],
   "source": [
    "# cond가 True이면 xarr, False이면 yarr 채택\n",
    "\n",
    "# 기존 파이썬 코드\n",
    "result = [(x if c else y) for x,y,c in zip(xarr,yarr,cond)]\n",
    "result"
   ]
  },
  {
   "cell_type": "code",
   "execution_count": 111,
   "id": "36b82317",
   "metadata": {},
   "outputs": [
    {
     "data": {
      "text/plain": [
       "array([1.1, 2.2, 1.3, 1.4, 2.5])"
      ]
     },
     "execution_count": 111,
     "metadata": {},
     "output_type": "execute_result"
    }
   ],
   "source": [
    "# np.where 사용\n",
    "result = np.where(cond, xarr, yarr)\n",
    "result"
   ]
  },
  {
   "cell_type": "code",
   "execution_count": 116,
   "id": "1bffa407",
   "metadata": {},
   "outputs": [
    {
     "data": {
      "text/plain": [
       "array([[4.90534996e-01, 9.99000000e+02, 3.80519088e-01, 1.09235539e-01],\n",
       "       [8.13891352e-01, 9.99000000e+02, 9.99000000e+02, 1.19325308e+00],\n",
       "       [9.99000000e+02, 9.99000000e+02, 3.69013242e-02, 9.99000000e+02],\n",
       "       [3.68348545e-02, 9.99000000e+02, 1.18745423e+00, 3.68719893e-01]])"
      ]
     },
     "execution_count": 116,
     "metadata": {},
     "output_type": "execute_result"
    }
   ],
   "source": [
    "arr = np.random.randn(4,4)\n",
    "arr = np.where(arr<0, 999, arr) \n",
    "arr"
   ]
  },
  {
   "cell_type": "code",
   "execution_count": 117,
   "id": "a392725b",
   "metadata": {},
   "outputs": [
    {
     "data": {
      "text/plain": [
       "array([[-0.92303145, -1.16637474, -0.94933493],\n",
       "       [ 1.5865743 ,  1.01908298, -1.3922746 ],\n",
       "       [-1.0391677 , -0.04915268, -0.83787093],\n",
       "       [-0.40196555, -0.43828181, -0.44647068],\n",
       "       [-0.88848321, -1.15777696, -0.55821958]])"
      ]
     },
     "execution_count": 117,
     "metadata": {},
     "output_type": "execute_result"
    }
   ],
   "source": [
    "arr = np.random.randn(5,3)\n",
    "arr"
   ]
  },
  {
   "cell_type": "code",
   "execution_count": 118,
   "id": "15936f45",
   "metadata": {},
   "outputs": [
    {
     "data": {
      "text/plain": [
       "array([-1.66607361, -1.79250321, -4.18417072])"
      ]
     },
     "execution_count": 118,
     "metadata": {},
     "output_type": "execute_result"
    }
   ],
   "source": [
    "arr.sum(axis=0) # axis=0 : row의 합을 구함"
   ]
  },
  {
   "cell_type": "code",
   "execution_count": 119,
   "id": "83882a6d",
   "metadata": {},
   "outputs": [
    {
     "data": {
      "text/plain": [
       "array([-1.01291371,  0.40446089, -0.64206377, -0.42890601, -0.86815991])"
      ]
     },
     "execution_count": 119,
     "metadata": {},
     "output_type": "execute_result"
    }
   ],
   "source": [
    "arr.mean(axis=1) # axis=1 : col의 평균"
   ]
  },
  {
   "cell_type": "code",
   "execution_count": 120,
   "id": "0e605432",
   "metadata": {},
   "outputs": [
    {
     "data": {
      "text/plain": [
       "array([ 0,  1,  3,  6, 10, 15])"
      ]
     },
     "execution_count": 120,
     "metadata": {},
     "output_type": "execute_result"
    }
   ],
   "source": [
    "# cumsum : 누적합 / cumprod : 누적곱\n",
    "arr = np.array([0,1,2,3,4,5])\n",
    "arr.cumsum()"
   ]
  },
  {
   "cell_type": "code",
   "execution_count": 129,
   "id": "9f5480f2",
   "metadata": {},
   "outputs": [
    {
     "data": {
      "text/plain": [
       "array([-1.78685387, -0.20036775, -0.15855927,  0.22192452,  0.85042554,\n",
       "        0.95589172])"
      ]
     },
     "execution_count": 129,
     "metadata": {},
     "output_type": "execute_result"
    }
   ],
   "source": [
    "## 정렬\n",
    "\n",
    "arr = np.random.randn(6)\n",
    "arr.sort()\n",
    "arr"
   ]
  },
  {
   "cell_type": "code",
   "execution_count": null,
   "id": "92088639",
   "metadata": {},
   "outputs": [],
   "source": [
    "## 집합 -> 중복 제거\n",
    "\n",
    "names = np.array([1,4,6,2,7,1,8,8,4])\n",
    "np.unique(names)"
   ]
  },
  {
   "cell_type": "code",
   "execution_count": 133,
   "id": "0be441b7",
   "metadata": {},
   "outputs": [
    {
     "data": {
      "text/plain": [
       "[<matplotlib.lines.Line2D at 0x12bfae2e0>]"
      ]
     },
     "execution_count": 133,
     "metadata": {},
     "output_type": "execute_result"
    },
    {
     "data": {
      "image/png": "[encoded data removed]",
      "text/plain": [
       "<Figure size 432x288 with 1 Axes>"
      ]
     },
     "metadata": {
      "needs_background": "light"
     },
     "output_type": "display_data"
    }
   ],
   "source": [
    "## 계단 오르내리기 예제\n",
    "import random\n",
    "\n",
    "position = 0\n",
    "walk = [position]\n",
    "steps = 1000\n",
    "\n",
    "for i in range(steps):\n",
    "    step = 1 if random.randint(0,1) else -1\n",
    "    position += step\n",
    "    walk.append(position)\n",
    "    \n",
    "plt.plot(walk[:100])\n"
   ]
  },
  {
   "cell_type": "code",
   "execution_count": 141,
   "id": "8aa3dc01",
   "metadata": {},
   "outputs": [
    {
     "name": "stdout",
     "output_type": "stream",
     "text": [
      "-11   43\n"
     ]
    }
   ],
   "source": [
    "nsteps = 1000\n",
    "draws = np.random.randint(0,2,size=nsteps)\n",
    "steps = np.where(draws>0, 1, -1)\n",
    "walk = steps.cumsum() # 누적합\n",
    "\n",
    "# 계단을 오르내린 위치의 최소, 최댓값\n",
    "print(walk.min(), ' ',walk.max())"
   ]
  },
  {
   "cell_type": "code",
   "execution_count": 142,
   "id": "9d9f98f1",
   "metadata": {},
   "outputs": [
    {
     "data": {
      "text/plain": [
       "27"
      ]
     },
     "execution_count": 142,
     "metadata": {},
     "output_type": "execute_result"
    }
   ],
   "source": [
    "(np.abs(walk) >= 10).argmax()  # 처음 위치에 최초로 10칸 떨어지기까지 얼마나 걸렸는지"
   ]
  }
 ],
 "metadata": {
  "kernelspec": {
   "display_name": "Python 3 (ipykernel)",
   "language": "python",
   "name": "python3"
  },
  "language_info": {
   "codemirror_mode": {
    "name": "ipython",
    "version": 3
   },
   "file_extension": ".py",
   "mimetype": "text/x-python",
   "name": "python",
   "nbconvert_exporter": "python",
   "pygments_lexer": "ipython3",
   "version": "3.8.8"
  }
 },
 "nbformat": 4,
 "nbformat_minor": 5
}
