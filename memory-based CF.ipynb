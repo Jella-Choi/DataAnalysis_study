{
 "cells": [
  {
   "cell_type": "code",
   "execution_count": 43,
   "id": "81c2e68b",
   "metadata": {},
   "outputs": [],
   "source": [
    "import numpy as np\n",
    "A = np.array([[4,1,1,4,2,3,5,0,4,0],\n",
    "              [0,4,2,0,3,2,5,0,4,3],\n",
    "              [2,0,4,5,2,0,1,3,4,2],\n",
    "              [1,4,0,1,4,5,0,3,1,2],\n",
    "              [1,2,3,4,0,3,4,4,2,5]])"
   ]
  },
  {
   "cell_type": "code",
   "execution_count": 61,
   "id": "e2138ed3",
   "metadata": {},
   "outputs": [],
   "source": [
    "# user-similarity\n",
    "def COS(mat):\n",
    "    NumUsers = np.size(mat, axis=0)\n",
    "    Sim = np.full((NumUsers, NumUsers), 0.0)\n",
    "    print('COS calculation start!')\n",
    "    \n",
    "    for u in range(0, NumUsers):\n",
    "        arridx_u = np.where(mat[u,] == 0)\n",
    "        for v in range(u+1, NumUsers):\n",
    "            arridx_v = np.where(mat[v,] == 0)\n",
    "            arridx = np.unique(np.concatenate((arridx_u, arridx_v), axis = None))\n",
    "            \n",
    "            U = np.delete(mat[u,], arridx)\n",
    "            V = np.delete(mat[v,], arridx)\n",
    "            \n",
    "            if(np.linalg.norm(U)==0 or np.linalg.norm(V)==0):\n",
    "                Sim[u,v] = 0\n",
    "            else:\n",
    "                Sim[u,v] = np.dot(U,V) / (np.linalg.norm(U) * np.linalg.norm(V))\n",
    "            Sim[v,u] = Sim[u,v]\n",
    "    print('COS calculation end!')\n",
    "    return Sim\n",
    "    #print(Sim)"
   ]
  },
  {
   "cell_type": "code",
   "execution_count": 45,
   "id": "7387be7f",
   "metadata": {},
   "outputs": [
    {
     "name": "stdout",
     "output_type": "stream",
     "text": [
      "COS calculation start!\n",
      "COS calculation end!\n",
      "[[0.         0.9165204  0.79442991 0.63943019 0.88069603]\n",
      " [0.9165204  0.         0.80671783 0.82956136 0.89472029]\n",
      " [0.79442991 0.80671783 0.         0.71842121 0.84181887]\n",
      " [0.63943019 0.82956136 0.71842121 0.         0.79530788]\n",
      " [0.88069603 0.89472029 0.84181887 0.79530788 0.        ]]\n"
     ]
    }
   ],
   "source": [
    "COS(A)"
   ]
  },
  {
   "cell_type": "code",
   "execution_count": 62,
   "id": "bae8fec3",
   "metadata": {},
   "outputs": [],
   "source": [
    "# user-similarity\n",
    "def PCC(mat):\n",
    "    NumUsers = np.size(mat, axis=0)\n",
    "    Sim = np.full((NumUsers, NumUsers), 0.0)\n",
    "    \n",
    "    mean = np.nanmean(np.where(mat!=0.0, mat, np.nan), axis=1)\n",
    "    print('PCC calculation start!')\n",
    "    \n",
    "    for u in range(0, NumUsers):\n",
    "        arridx_u = np.where(mat[u,] == 0)\n",
    "        for v in range(u+1, NumUsers):\n",
    "            arridx_v = np.where(mat[v,] == 0)\n",
    "            arridx = np.unique(np.concatenate((arridx_u, arridx_v), axis = None))\n",
    "            \n",
    "            U = np.delete(mat[u,], arridx)-mean[u]\n",
    "            V = np.delete(mat[v,], arridx)-mean[v]\n",
    "            \n",
    "            if(np.linalg.norm(U)==0 or np.linalg.norm(V)==0):\n",
    "                Sim[u,v] = 0\n",
    "            else:\n",
    "                Sim[u,v] = np.dot(U,V) / (np.linalg.norm(U) * np.linalg.norm(V))\n",
    "            Sim[v,u] = Sim[u,v]\n",
    "    print('PCC calculation end!')\n",
    "    return Sim\n",
    "    #print(Sim)    "
   ]
  },
  {
   "cell_type": "code",
   "execution_count": 15,
   "id": "2f30113c",
   "metadata": {},
   "outputs": [
    {
     "name": "stdout",
     "output_type": "stream",
     "text": [
      "[3.         3.28571429 2.875      2.625      3.11111111]\n",
      "PCC calculation start!\n",
      "PCC calculation end!\n",
      "[[ 0.          0.54935027 -0.2282767  -0.76405745  0.16697993]\n",
      " [ 0.54935027  0.         -0.53146801 -0.57985679 -0.04474374]\n",
      " [-0.2282767  -0.53146801  0.         -0.48839607 -0.07135479]\n",
      " [-0.76405745 -0.57985679 -0.48839607  0.          0.08293712]\n",
      " [ 0.16697993 -0.04474374 -0.07135479  0.08293712  0.        ]]\n"
     ]
    }
   ],
   "source": [
    "PCC(A)"
   ]
  },
  {
   "cell_type": "code",
   "execution_count": 63,
   "id": "ca563d4f",
   "metadata": {},
   "outputs": [
    {
     "name": "stdout",
     "output_type": "stream",
     "text": [
      "COS calculation start!\n",
      "COS calculation end!\n",
      "[3.         3.28571429 2.875      2.625      3.11111111]\n",
      "PCC calculation start!\n",
      "PCC calculation end!\n"
     ]
    },
    {
     "data": {
      "text/plain": [
       "array([[ 0.23310469,  3.53379062,  2.23310469,  0.93241876,  2.30068593,\n",
       "         2.23310469,  4.76689531,  0.93241876,  3.53379062,  3.46620938],\n",
       "       [ 4.        ,  1.        ,  1.        ,  4.        ,  2.        ,\n",
       "         3.        ,  5.        ,  0.        ,  4.        ,  0.        ],\n",
       "       [ 1.        ,  2.        ,  3.        ,  4.        , -0.        ,\n",
       "         3.        ,  4.        ,  4.        ,  2.        ,  5.        ],\n",
       "       [ 1.        ,  2.        ,  3.        ,  4.        ,  0.        ,\n",
       "         3.        ,  4.        ,  4.        ,  2.        ,  5.        ],\n",
       "       [ 3.00442425,  1.99557575,  0.66814142,  3.00442425,  2.66371717,\n",
       "         3.66371717,  3.34070708,  0.99557575,  3.00442425,  0.66371717]])"
      ]
     },
     "execution_count": 63,
     "metadata": {},
     "output_type": "execute_result"
    }
   ],
   "source": [
    "# memory_based CF using similarity measure(COS, PCC)\n",
    "def basic_CF(mat,sim,k):\n",
    "    # predicted_rating\n",
    "    predicted_rating = np.array([[0.0 for col in range(10)] for row in range(5)])\n",
    "    \n",
    "    # call similarity\n",
    "    if(sim == 'COS'):\n",
    "        Sim = COS(mat)\n",
    "    elif(sim == 'PCC'):\n",
    "        Sim = PCC(mat)\n",
    "    \n",
    "    \n",
    "    k_neighbors = np.argsort(-Sim)  # descending order sorting \n",
    "    k_neighbors = np.delete(k_neighbors, np.s_[k:], 1)  # slicing top k users\n",
    "    \n",
    "    NumUsers = np.size(mat, axis=0)\n",
    "    \n",
    "    for u in range(0, NumUsers):\n",
    "        list_sim = Sim[u, k_neighbors[u,]] # similarity list\n",
    "        list_rating = mat[k_neighbors[u,],].astype('float64') # rating list\n",
    "        # predicted rating calculation\n",
    "        predicted_rating[u,] = np.sum(list_sim.reshape(-1,1) * list_rating, axis=0) / np.sum(list_sim)\n",
    "    \n",
    "    return predicted_rating\n",
    "    \n",
    "print(basic_CF(A,'COS',2))\n",
    "print(basic_CF(A,'PCC',2))"
   ]
  },
  {
   "cell_type": "code",
   "execution_count": 64,
   "id": "9ae87240",
   "metadata": {},
   "outputs": [
    {
     "name": "stdout",
     "output_type": "stream",
     "text": [
      "COS calculation start!\n",
      "COS calculation end!\n",
      "[[ 0.28988047  2.81978035  2.28988047  1.75998059  1.32974698  2.28988047\n",
      "   4.30981372  1.75998059  2.81978035  3.77991384]\n",
      " [ 2.74888141  1.72480939  2.21879139  4.2308274   1.24286341  3.2308274\n",
      "   4.7368454   2.20675538  3.24286341  2.70073737]\n",
      " [ 0.18909227  2.65715391  2.18909227  1.72103063  1.14650779  2.18909227\n",
      "   4.16780003  1.72103063  2.65715391  3.69973839]\n",
      " [-0.08579346  2.44582768  1.91420654  1.3825854   0.95636806  1.91420654\n",
      "   3.9352873   1.3825854   2.44582768  3.40366616]\n",
      " [ 1.95132724  2.47897423  1.47107509  1.95132724  2.47107509  2.46317595\n",
      "   4.96712552 -0.03287448  3.96712552  1.47897423]]\n",
      "[3.         3.28571429 2.875      2.625      3.11111111]\n",
      "PCC calculation start!\n",
      "PCC calculation end!\n",
      "[[-0.01190878  3.28877715  1.98809122  0.68740529  2.05567246  1.98809122\n",
      "   4.52188184  0.68740529  3.28877715  3.22119591]\n",
      " [ 4.28571429  1.28571429  1.28571429  4.28571429  2.28571429  3.28571429\n",
      "   5.28571429  0.28571429  4.28571429  0.28571429]\n",
      " [ 0.76388889  1.76388889  2.76388889  3.76388889 -0.23611111  2.76388889\n",
      "   3.76388889  3.76388889  1.76388889  4.76388889]\n",
      " [ 0.51388889  1.51388889  2.51388889  3.51388889 -0.48611111  2.51388889\n",
      "   3.51388889  3.51388889  1.51388889  4.51388889]\n",
      " [ 3.23998233  2.23113383  0.9036995   3.23998233  2.89927525  3.89927525\n",
      "   3.57626516  1.23113383  3.23998233  0.89927525]]\n"
     ]
    }
   ],
   "source": [
    "# CF algorithm with mean\n",
    "def basic_mean(mat,sim,k):\n",
    "    # predicted_rating\n",
    "    predicted_rating = np.array([[0.0 for col in range(10)] for row in range(5)])\n",
    "    \n",
    "    #mean of users rating\n",
    "    mean = np.nanmean(np.where(mat!=0, mat, np.nan), axis=1)\n",
    "    \n",
    "    # call similarity\n",
    "    if(sim == 'COS'):\n",
    "        Sim = COS(mat)\n",
    "    elif(sim == 'PCC'):\n",
    "        Sim = PCC(mat)\n",
    "    \n",
    "    \n",
    "    k_neighbors = np.argsort(-Sim)  # descending order sorting \n",
    "    k_neighbors = np.delete(k_neighbors, np.s_[k:], 1)  # slicing top k users\n",
    "    \n",
    "    NumUsers = np.size(mat, axis=0)\n",
    "    \n",
    "    for u in range(0, NumUsers):\n",
    "        list_sim = Sim[u, k_neighbors[u,]] # similarity list\n",
    "        list_rating = mat[k_neighbors[u,],].astype('float64') # rating list\n",
    "        list_mean = mean[k_neighbors[u,],] # mean list\n",
    "        # predicted rating calculation\n",
    "        denominator = np.sum(list_sim)\n",
    "        numerator = np.sum(list_sim.reshape(-1,1) * (list_rating-list_mean.reshape(-1,1)), axis=0)\n",
    "        predicted_rating[u,] = mean[u] + numerator / denominator\n",
    "    \n",
    "    return predicted_rating\n",
    "    \n",
    "print(basic_mean(A,'COS',2))\n",
    "print(basic_mean(A,'PCC',2))"
   ]
  },
  {
   "cell_type": "code",
   "execution_count": null,
   "id": "1d18de7c",
   "metadata": {},
   "outputs": [],
   "source": [
    "# CF algorithm with z-score\n",
    "def basic_zscore(mat,sim,k):\n",
    "    # predicted_rating\n",
    "    predicted_rating = np.array([[0.0 for col in range(10)] for row in range(5)])\n",
    "    \n",
    "    # mean & std of users rating\n",
    "    mean = np.nanmean(np.where(mat!=0, mat, np.nan), axis=1)\n",
    "    std = np.nanstd(np.where(mat!=0, mat, np.nan), axis=1)\n",
    "    \n",
    "    # call similarity\n",
    "    if(sim == 'COS'):\n",
    "        Sim = COS(mat)\n",
    "    elif(sim == 'PCC'):\n",
    "        Sim = PCC(mat)\n",
    "    \n",
    "    \n",
    "    k_neighbors = np.argsort(-Sim)  # descending order sorting \n",
    "    k_neighbors = np.delete(k_neighbors, np.s_[k:], 1)  # slicing top k users\n",
    "    \n",
    "    NumUsers = np.size(mat, axis=0)\n",
    "    \n",
    "    for u in range(0, NumUsers):\n",
    "        list_sim = Sim[u, k_neighbors[u,]] # similarity list\n",
    "        list_rating = mat[k_neighbors[u,],].astype('float64') # rating list\n",
    "        list_mean = mean[k_neighbors[u,],] # mean list\n",
    "        list_std = std[k_neighbors[u,],] # std list\n",
    "        # predicted rating calculation\n",
    "        denominator = np.sum(list_sum)\n",
    "        numerator = np.sum(list_sim.reshape(-1,1) * ((list_rating-list_mean.reshape(-1,1))/list_std.reshape(-1,1)), axis=0)\n",
    "        predicted_rating[u,] = mean[u]+std[u]*numerator/denominator\n",
    "    \n",
    "    return predicted_rating\n",
    "    \n",
    "print(basic_zscore(A,'COS',2))\n",
    "print(basic_zscore(A,'PCC',2))"
   ]
  }
 ],
 "metadata": {
  "kernelspec": {
   "display_name": "Python 3 (ipykernel)",
   "language": "python",
   "name": "python3"
  },
  "language_info": {
   "codemirror_mode": {
    "name": "ipython",
    "version": 3
   },
   "file_extension": ".py",
   "mimetype": "text/x-python",
   "name": "python",
   "nbconvert_exporter": "python",
   "pygments_lexer": "ipython3",
   "version": "3.8.8"
  }
 },
 "nbformat": 4,
 "nbformat_minor": 5
}
